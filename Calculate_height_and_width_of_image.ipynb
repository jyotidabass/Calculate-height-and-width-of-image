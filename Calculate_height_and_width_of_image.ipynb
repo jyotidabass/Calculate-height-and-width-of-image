{
  "nbformat": 4,
  "nbformat_minor": 0,
  "metadata": {
    "colab": {
      "name": "Calculate height and width of image.ipynb",
      "provenance": [],
      "collapsed_sections": [],
      "authorship_tag": "ABX9TyNvZP4fYjagu1lhi/zxtjkU",
      "include_colab_link": true
    },
    "kernelspec": {
      "name": "python3",
      "display_name": "Python 3"
    },
    "language_info": {
      "name": "python"
    }
  },
  "cells": [
    {
      "cell_type": "markdown",
      "metadata": {
        "id": "view-in-github",
        "colab_type": "text"
      },
      "source": [
        "<a href=\"https://colab.research.google.com/github/jyotidabass/Calculate-height-and-width-of-image/blob/main/Calculate_height_and_width_of_image.ipynb\" target=\"_parent\"><img src=\"https://colab.research.google.com/assets/colab-badge.svg\" alt=\"Open In Colab\"/></a>"
      ]
    },
    {
      "cell_type": "code",
      "source": [
        "# import required module\n",
        "from PIL import Image\n",
        "  \n",
        "# get image\n",
        "filepath = \"/content/WIN_20220316_14_53_56_Pro - Suja Arora.jpg\"\n",
        "img = Image.open(filepath)\n",
        "  \n",
        "# get width and height\n",
        "width = img.width\n",
        "height = img.height\n",
        "  \n",
        "# display width and height\n",
        "print(\"The height of the image is: \", height)\n",
        "print(\"The width of the image is: \", width)"
      ],
      "metadata": {
        "colab": {
          "base_uri": "https://localhost:8080/"
        },
        "id": "Ya-uTUtwOgGF",
        "outputId": "7da6adf9-737f-41fc-c31e-7e92bb6e014e"
      },
      "execution_count": 22,
      "outputs": [
        {
          "output_type": "stream",
          "name": "stdout",
          "text": [
            "The height of the image is:  720\n",
            "The width of the image is:  1280\n"
          ]
        }
      ]
    }
  ]
}